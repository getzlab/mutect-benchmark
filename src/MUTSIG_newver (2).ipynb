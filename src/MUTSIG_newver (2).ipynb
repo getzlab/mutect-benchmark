{
 "cells": [
  {
   "cell_type": "markdown",
   "metadata": {},
   "source": [
    "# MUTSIG analysis"
   ]
  },
  {
   "cell_type": "markdown",
   "metadata": {},
   "source": [
    "Paths and prepare for finished cohorts"
   ]
  },
  {
   "cell_type": "code",
   "execution_count": null,
   "metadata": {},
   "outputs": [],
   "source": [
    "import pandas as pd\n",
    "import numpy as np\n",
    "from scipy.io import loadmat\n",
    "import matplotlib.pyplot as plt\n",
    "# from adjustText import adjust_text\n",
    "import glob as glob\n",
    "import seaborn as sns\n"
   ]
  },
  {
   "cell_type": "code",
   "execution_count": null,
   "metadata": {},
   "outputs": [],
   "source": [
    "# path variables\n",
    "M1_MUTSIG_DIR = \"/home/qingzhang/files/M1\"\n",
    "M2_MUTSIG_DIR =  \"/home/qingzhang/files/M2\""
   ]
  },
  {
   "cell_type": "code",
   "execution_count": null,
   "metadata": {},
   "outputs": [],
   "source": [
    "# read known driver genes\n",
    "genes = pd.read_csv(\"/home/qingzhang/files/non_tier_4.tsv\", sep = \"\\t\")\n",
    "genes.tier = genes.tier.astype('int64')\n",
    "driver_genes = genes.gene[genes.tier.isin([1,2,3])].tolist()"
   ]
  },
  {
   "cell_type": "markdown",
   "metadata": {},
   "source": [
    "# 1. Build master table for MAF and SIGGENES\n",
    "prepare the subset of MAF reannotated from MutSig, prepare the siggenes from each cohort"
   ]
  },
  {
   "cell_type": "code",
   "execution_count": null,
   "metadata": {},
   "outputs": [],
   "source": [
    "mut_eff_converter = {'1': 'ncd', \n",
    "                     '2': 'sil',\n",
    "                     '3': 'mis',\n",
    "                     '4': 'stp',\n",
    "                     '5': 'spl' } \n",
    "\n",
    "def get_maf(cohort, mutect_version, gene_list=None, \n",
    "            cols = ['patient', 'symbol', 'chr', 'pos', 'newbase', 'effect', 'is_coding', 'context65']):\n",
    "    \n",
    "    # define base dir by version of mutect\n",
    "    if mutect_version == 1:\n",
    "        base_dir = M1_MUTSIG_DIR\n",
    "        version = 'M1'\n",
    "    elif mutect_version == 2:\n",
    "        base_dir = M2_MUTSIG_DIR\n",
    "        version = 'M2'\n",
    "    \n",
    "    \n",
    "    # read files\n",
    "    maf = pd.read_csv(\"{base_dir}/{cohort}/final_analysis_set.maf\".format(base_dir = base_dir, cohort = cohort), sep = \"\\t\")\n",
    "    gene_dict = loadmat(\"{base_dir}/{cohort}/input_data.M/gene/name.mat\".format(base_dir = base_dir, cohort = cohort))\n",
    "    pat_dict = loadmat('{base_dir}/{cohort}/patients.mat'.format(base_dir = base_dir, cohort = cohort))\n",
    "    \n",
    "    # add patient name\n",
    "    pat_name = []\n",
    "    for ii in pat_dict['pat'][0][0][0][[i-1 for i in maf.pat_idx.tolist()]]:\n",
    "        pat_name.append(ii[0][0])\n",
    "    maf['patient'] = pat_name\n",
    "    \n",
    "    \n",
    "    # add gene name\n",
    "    gene_name = []\n",
    "    for ii in gene_dict['tmp'][[i-1 for i in maf.gene_idx.tolist()]]:\n",
    "        gene_name.append(ii[0][0])\n",
    "    maf['symbol'] = gene_name\n",
    "    \n",
    "    # remap effects\n",
    "    maf['effect_idx'] = maf['effect_idx'].astype('str')\n",
    "    maf['effect'] = maf['effect_idx'].replace(mut_eff_converter)\n",
    "    \n",
    "    # remap newbase\n",
    "    maf['newbase'] = maf[\"newbase_idx\"].replace({1:\"A\", 2:\"C\", 3:\"G\", 4:\"T\"})\n",
    "    # filter entries\n",
    "    if gene_list is not None:\n",
    "        maf = maf.loc[maf.symbol.isin(gene_list), cols ]\n",
    "    else:\n",
    "        maf = maf.loc[:, cols]\n",
    "    \n",
    "    maf['ttype'] = cohort\n",
    "    maf['version'] = version\n",
    "    \n",
    "    raw_maf = pd.read_csv(\"{}/{}_full.maf\".format(M2_RAWMAF_DIR, cohort), sep = '\\t').rename({\"newbase\":\"raw_nb\"}, axis=1)\n",
    "    raw_maf.patient = raw_maf.patient.str[-23:]\n",
    "    maf = maf.merge(raw_maf.loc[:,[\"chr\", \"pos\", \"patient\", \"t_alt_count\", \"n_alt_count\", \"t_ref_count\", \"n_ref_count\"]], how = 'left')\n",
    "    \n",
    "\n",
    "    return maf\n"
   ]
  },
  {
   "cell_type": "code",
   "execution_count": null,
   "metadata": {},
   "outputs": [],
   "source": [
    "CODE_EFF = list(mut_eff_converter.values())"
   ]
  },
  {
   "cell_type": "code",
   "execution_count": null,
   "metadata": {},
   "outputs": [],
   "source": [
    "def get_siggenes(cohort, mutect_version):\n",
    "    if mutect_version == 1:\n",
    "        res = loadmat('{}/{}/results.mat'.format(M1_MUTSIG_DIR, cohort), squeeze_me = True)\n",
    "        version = \"M1\"\n",
    "    elif mutect_version == 2:\n",
    "        res = loadmat('{}/{}/results.mat'.format(M2_MUTSIG_DIR, cohort), squeeze_me = True)\n",
    "        version = \"M2\"\n",
    "#     print(res['G'])\n",
    "    code_eff = list(mut_eff_converter.values())\n",
    "    cols = ['gene', 'codelen', 'q'] + ['pCV', 'pCL', 'pFN'] + [\"N\" + eff for eff in code_eff] + [\"n\" + eff for eff in code_eff]\n",
    "#     res = loadmat('{}/{}/results.mat'.format(M1_MUTSIG_DIR, cohort), squeeze_me = True)\n",
    "    df = pd.DataFrame()\n",
    "    for col in  cols:\n",
    "        df[col] = res['G'][col].item()\n",
    "    df['version'] = version\n",
    "    df['ttype'] = cohort\n",
    "    return df"
   ]
  },
  {
   "cell_type": "code",
   "execution_count": null,
   "metadata": {},
   "outputs": [],
   "source": [
    "BIG_MAF = pd.DataFrame()\n",
    "BIG_SIGGENE = pd.DataFrame()\n",
    "# sig_gene_cols = ['gene', 'codelen','nncd', 'nmis', 'nstp', 'nspl', '',   'pCV', 'pCL', 'pFN', 'pCF', 'q']\n",
    "for cc in finished_cohort:\n",
    "    print(cc)\n",
    "    BIG_MAF = pd.concat([BIG_MAF, pd.concat([get_maf(cc, 1), get_maf(cc, 2)], axis=0)], axis=0)\n",
    "    BIG_SIGGENE = pd.concat([BIG_SIGGENE, pd.concat([get_siggenes(cc, 1), \n",
    "                                                     get_siggenes(cc, 2)], axis=0)], axis=0)\n"
   ]
  },
  {
   "cell_type": "code",
   "execution_count": null,
   "metadata": {},
   "outputs": [],
   "source": [
    "BIG_MAF = BIG_MAF.reset_index()\n",
    "BIG_SIGGENE = BIG_SIGGENE.reset_index()"
   ]
  },
  {
   "cell_type": "code",
   "execution_count": null,
   "metadata": {},
   "outputs": [],
   "source": [
    "FILTERS = pd.DataFrame()\n",
    "for cc in finished_cohort:\n",
    "    filter_reasons = pd.read_csv(\"/demo-mount/m2_results/combined_res/filters/{}.tsv\".format(cc), sep = '\\t').loc[:, ['chr', 'pos', 'patient', 'filters']]\n",
    "    filter_reasons.patient = filter_reasons.patient.str[-23:]\n",
    "    filter_reasons.chr = filter_reasons.chr.astype('int64')\n",
    "    filter_reasons.columns = [\"chr\", \"pos\", \"patient\", \"filters\"]\n",
    "    filter_reasons['ttype'] = cc\n",
    "    FILTERS = pd.concat([FILTERS, filter_reasons], axis=0)\n",
    "FILTERS\n",
    "BIG_MAF = BIG_MAF.merge(FILTERS, how = \"left\")"
   ]
  },
  {
   "cell_type": "markdown",
   "metadata": {},
   "source": [
    "Alternatively, read directly from the pickle file."
   ]
  },
  {
   "cell_type": "code",
   "execution_count": null,
   "metadata": {},
   "outputs": [],
   "source": [
    "import pandas as pd\n",
    "import numpy as np\n",
    "BIG_MAF = pd.read_pickle(\"/home/qingzhang/files/BIG_MAF.pkl\")\n",
    "BIG_SIGGENE = pd.read_pickle(\"/home/qingzhang/files/BIG_SIGGENE.pkl\")"
   ]
  },
  {
   "cell_type": "code",
   "execution_count": null,
   "metadata": {},
   "outputs": [],
   "source": [
    "PON = pd.read_csv(\"/home/qingzhang/files/Mutect2-exome-panel.vcf\", sep = \"\\t\", \n",
    "                  comment = \"#\", header = None, usecols = [0,1]).rename({0:\"chr\", 1:\"pos\"}, axis=1)\n",
    "PON = PON.loc[PON.chr != \"MT\", :]\n",
    "PON.chr = PON.chr.replace({\"X\":23, \"Y\":24}).astype(\"int64\")"
   ]
  },
  {
   "cell_type": "markdown",
   "metadata": {},
   "source": [
    "# Merged sets of variants and genes"
   ]
  },
  {
   "cell_type": "markdown",
   "metadata": {},
   "source": [
    "## MERGED MAF"
   ]
  },
  {
   "cell_type": "code",
   "execution_count": null,
   "metadata": {
    "scrolled": false
   },
   "outputs": [],
   "source": [
    "M1_callset = BIG_MAF.loc[(BIG_MAF.version == \"M1\")]\n",
    "M2_callset = BIG_MAF.loc[(BIG_MAF.version == \"M2\")]# & (BIG_MAF.t_alt_count > 3)]\n",
    "MERGED_calls = M1_callset.merge(M2_callset, how = 'outer', \n",
    "                       on = ['ttype','symbol', 'chr','pos','patient', 'filters'], \n",
    "                       suffixes  =['_M1', \"_M2\"])\n",
    "# MERGED_calls = MERGED_calls.merge(FILTERS, how = 'left', on = ['ttype', 'patient', 'chr', 'pos'])\n",
    "MERGED_calls[\"called_by\"] = \"both\"\n",
    "MERGED_calls[\"called_by\"][(~MERGED_calls.effect_M1.isnull()) & MERGED_calls.effect_M2.isnull() ] = \"M1_only\"\n",
    "MERGED_calls[\"called_by\"] [(~MERGED_calls.effect_M2.isnull()) & MERGED_calls.effect_M1.isnull() ] = \"M2_only\""
   ]
  },
  {
   "cell_type": "markdown",
   "metadata": {},
   "source": [
    "* Number of M1-only sites in PoN"
   ]
  },
  {
   "cell_type": "code",
   "execution_count": null,
   "metadata": {},
   "outputs": [],
   "source": [
    "PON = pd.read_csv(\"/home/qingzhang/files/Mutect2-exome-panel.vcf\", sep = \"\\t\", \n",
    "                  comment = \"#\", header = None, usecols = [0,1]).rename({0:\"chr\", 1:\"pos\"}, axis=1)\n",
    "PON = PON.loc[PON.chr != \"MT\", :]\n",
    "PON.chr = PON.chr.replace({\"X\":23, \"Y\":24}).astype(\"int64\")\n",
    "PON['inpon'] = \"m2_pon\"\n",
    "MERGED_calls = MERGED_calls.merge(PON, how = \"left\")"
   ]
  },
  {
   "cell_type": "code",
   "execution_count": null,
   "metadata": {},
   "outputs": [],
   "source": [
    "MERGED_calls.inpon.value_counts()"
   ]
  },
  {
   "cell_type": "code",
   "execution_count": null,
   "metadata": {},
   "outputs": [],
   "source": [
    "MERGED_calls.called_by.value_counts()"
   ]
  },
  {
   "cell_type": "code",
   "execution_count": null,
   "metadata": {},
   "outputs": [],
   "source": [
    "1966/87907"
   ]
  },
  {
   "cell_type": "markdown",
   "metadata": {},
   "source": [
    "* Venn plot"
   ]
  },
  {
   "cell_type": "code",
   "execution_count": null,
   "metadata": {
    "scrolled": false
   },
   "outputs": [],
   "source": [
    "def venn(data):\n",
    "    total = len(data['effect_M1'])\n",
    "    d = {}\n",
    "#     d['M1_only'] = np.sum( (data['effect_M2'].isnull()) & (~data['effect_M1'].isnull())) / total\n",
    "    d['M2_only'] = np.sum( (data['effect_M1'].isnull()) & (~data['effect_M2'].isnull())) / total\n",
    "    d['called_both'] = np.sum( (~data['effect_M2'].isnull()) & (~data['effect_M1'].isnull())) / total\n",
    "#     d['M1_w_filter'] = np.sum((~data['effect_M1'].isnull()) & (data['effect_M2'].isnull()) & (~data['filters'].isnull())  ) / total\n",
    "#     d['M1_wo_filter'] = np.sum((~data['effect_M1'].isnull()) & (data['effect_M2'].isnull()) & (data['filters'].isnull())  ) / total\n",
    "#     d['total_patient'] = data['patient'].nunique()\n",
    "    return pd.Series(d)\n",
    "\n",
    "# sns.set(style=\"whitegrid\")\n",
    "df = BIG_MAF.loc[BIG_MAF.version == \"M2\"].groupby(['ttype', 'patient']).size().reset_index().rename({0:\"counts\"}, axis=1)\n",
    "plot_order = df.groupby(\"ttype\").counts.mean().sort_values().index.tolist()\n",
    "df['counts'] = np.log10(df['counts'])\n",
    "\n",
    "fig = plt.figure(figsize = (10,10))\n",
    "ax = fig.add_axes([0.1, 0.5, 0.8, 0.4])\n",
    "ax2 = fig.add_axes([0.1, 0.2, 0.8, 0.2])\n",
    "df_venn = MERGED_calls.groupby('ttype').apply(venn).loc[plot_order,:]\n",
    "df_venn.plot.bar(stacked = True, ax=ax, cmap = \"Blues\", linewidth=1, edgecolor = 'grey')\n",
    "ax.set_xticklabels(plot_order, rotation =45)\n",
    "leg = ax.legend(loc='lower right', bbox_to_anchor=(0.7, 0, 0.5, 1))\n",
    "leg.get_frame().set_linewidth(0.0)\n",
    "ax.set_title(\"Call set Venn\", fontsize='large')\n",
    "ax.set_xlabel(\"\")\n",
    "ax.set_ylabel('fraction')\n",
    "\n",
    "for i, (tt, num) in enumerate(zip(plot_order, df_venn.called_both)):\n",
    "    num = \"{:.0%}\".format(num)\n",
    "    ax.text(i-0.25, 0.5, num, fontsize=8)\n",
    "# fig.tight_layout()\n",
    "ax2.plot(BIG_MAF.groupby('ttype').patient.nunique()[df_venn.index], color = \"tab:grey\", linestyle = \"-\")\n",
    "ax2.set_xticklabels(plot_order, rotation =45)\n",
    "ax2.set_title(\"Cohort attribute (ordered by average #variant called per patient by M2)\", fontsize='large')\n",
    "ax2.set_ylabel('# patient', color=\"tab:grey\")\n",
    "ax3 = ax2.twinx()  # instantiate a second axes that shares the same x-axis\n",
    "\n",
    "color = 'tab:blue'\n",
    "\n",
    "\n",
    "# ax3.set_yscale('log')\n",
    "sns.violinplot('ttype', 'counts', ax = ax3, color = color, data = df,\n",
    "              order=plot_order)\n",
    "\n",
    "ax3.tick_params(axis='y', labelcolor=color)\n",
    "\n",
    "ax3.set_xticklabels(ax3.get_xticklabels(), rotation =45)\n",
    "ax3.set_ylabel('lg(# calls per patient)', color=color)  # we already handled the x-label with ax1\n",
    "sns.despine()\n",
    "plt.savefig(\"venn\", dpi=300, bbox_inches='tight')\n",
    "\n"
   ]
  },
  {
   "cell_type": "code",
   "execution_count": null,
   "metadata": {},
   "outputs": [],
   "source": [
    "df_venn = df_venn.reset_index()\n",
    "df_venn[\"filter_ratio\"] = df_venn[\"M1_w_filter\"] / (df_venn[\"M1_w_filter\"] + df_venn[\"M1_wo_filter\"])"
   ]
  },
  {
   "cell_type": "markdown",
   "metadata": {},
   "source": [
    "* minimum alt support"
   ]
  },
  {
   "cell_type": "code",
   "execution_count": null,
   "metadata": {},
   "outputs": [],
   "source": [
    "def set_cutoff(cut):\n",
    "    M1_callset = BIG_MAF.loc[BIG_MAF.version == \"M1\"]\n",
    "    M2_callset = BIG_MAF.loc[(BIG_MAF.version == \"M2\") & (BIG_MAF.t_alt_count > cut)]\n",
    "    MERGED_calls = M1_callset.merge(M2_callset, how = 'outer', \n",
    "                           on = ['ttype','symbol', 'chr','pos','patient'], \n",
    "                           suffixes  =['_M1', \"_M2\"])\n",
    "#     MERGED_calls = MERGED_calls.merge(FILTERS, how = 'left', on = ['ttype', 'patient', 'chr', 'pos'])\n",
    "    df_venn = MERGED_calls.groupby('ttype').apply(venn).reset_index().sort_values([\"called_both\", \"M2_only\"])\n",
    "    df_venn['cutoff'] = cut\n",
    "    return df_venn\n",
    "\n",
    "df_test = pd.DataFrame()\n",
    "for cc in range(1, 7):\n",
    "    df_test = pd.concat([df_test, set_cutoff(cc)], axis=0)"
   ]
  },
  {
   "cell_type": "code",
   "execution_count": null,
   "metadata": {},
   "outputs": [],
   "source": [
    "df_test.groupby(\"cutoff\").called_both.mean()"
   ]
  },
  {
   "cell_type": "code",
   "execution_count": null,
   "metadata": {},
   "outputs": [],
   "source": [
    "df_test[df_test.cutoff == 5]"
   ]
  },
  {
   "cell_type": "code",
   "execution_count": null,
   "metadata": {
    "scrolled": false
   },
   "outputs": [],
   "source": [
    "plt.figure(figsize=(8, 6))\n",
    "df_test['cutoff'] = df_test['cutoff'] + 1\n",
    "ax = sns.lineplot(x = \"cutoff\", y = \"called_both\", hue = \"ttype\", data=df_test, legend= \"brief\", marker=\"o\")\n",
    "# plt.legend(loc='upper left', , bbox_to_anchor=(0.75, 0, 0.5, 1))\n",
    "# plt.legend(bbox_to_anchor=(1.05, 1), loc=2, borderaxespad=0.)\n",
    "handles, labels = ax.get_legend_handles_labels()\n",
    "ax.legend(handles[::-1], labels[::-1], bbox_to_anchor=(1.05, 1), loc=2)\n",
    "plt.title(\"Filter M2 calls with different alt count cutoff\")\n",
    "\n",
    "sns.despine()\n",
    "ax.set_ylabel('fraction of variants called by both caller')\n",
    "ax.set_xlabel('minimum alt count required')\n",
    "plt.savefig(\"test_cutoff\", dpi=150, bbox_inches='tight')"
   ]
  },
  {
   "cell_type": "markdown",
   "metadata": {},
   "source": [
    "* Figure: filters"
   ]
  },
  {
   "cell_type": "code",
   "execution_count": null,
   "metadata": {},
   "outputs": [],
   "source": [
    "M1_with_filter = MERGED_calls.loc[~MERGED_calls.filters.isnull(), [\"patient\", \"symbol\", \"chr\", \"pos\", \"filters\", \"ttype\", \"inpon\"]]\n",
    "M1_with_filter[\"filters\"] = M1_with_filter.filters.str.split(\";\" )\n",
    "M1_with_filter = M1_with_filter.explode(\"filters\")"
   ]
  },
  {
   "cell_type": "code",
   "execution_count": null,
   "metadata": {},
   "outputs": [],
   "source": [
    "M1_with_filter.filters.value_counts()"
   ]
  },
  {
   "cell_type": "code",
   "execution_count": null,
   "metadata": {
    "scrolled": false
   },
   "outputs": [],
   "source": [
    "mat = M1_with_filter.groupby(['ttype', 'filters']).size().reset_index().pivot(\"ttype\", \"filters\").fillna(0)\n",
    "mat.columns = mat.columns.droplevel(0)\n",
    "mat = mat.apply(lambda row: row / np.sum(row), axis=1)\n",
    "g = sns.clustermap(mat, cmap = \"Blues\", figsize=(10, 8))\n",
    "col_ids = g.dendrogram_col.reordered_ind\n",
    "row_ids = g.dendrogram_row.reordered_ind\n",
    "f, ax = plt.subplots(figsize=(12, 9))\n",
    "g = sns.heatmap(mat.iloc[row_ids, col_ids], cmap = \"Blues\", ax=ax, linewidths=0.4)\n",
    "\n",
    "# Rotate the tick labels and set their alignment.\n",
    "plt.setp(g.get_xticklabels(), rotation=45, ha=\"right\",\n",
    "         rotation_mode=\"anchor\")\n",
    "g.set_xticklabels(g.get_xticklabels(), rotation=45)\n",
    "g.set_yticklabels(g.get_yticklabels(), rotation=45)\n",
    "b, t = plt.ylim() # discover the values for bottom and top\n",
    "b += 0.5 # Add 0.5 to the bottom\n",
    "t -= 0.5 # Subtract 0.5 from the top\n",
    "plt.ylim(b, t) # update the ylim(bottom, top) values\n",
    "plt.savefig(\"clustering_filter_new\", dpi=300, bbox_inches='tight')"
   ]
  },
  {
   "cell_type": "markdown",
   "metadata": {},
   "source": [
    "* Lego (dependent on Capy)"
   ]
  },
  {
   "cell_type": "markdown",
   "metadata": {},
   "source": [
    "## MERGED_SIG"
   ]
  },
  {
   "cell_type": "code",
   "execution_count": null,
   "metadata": {},
   "outputs": [],
   "source": [
    "M1_SIG = BIG_SIGGENE.loc[BIG_SIGGENE.version == \"M1\"].drop(['version'], axis=1)\n",
    "M2_SIG = BIG_SIGGENE.loc[BIG_SIGGENE.version == \"M2\"].drop(['version'], axis=1)\n",
    "MERGE_SIG = M1_SIG.merge(M2_SIG, how = 'outer', \n",
    "                       on = ['ttype','gene', 'codelen'], \n",
    "                       suffixes  =['_M1', \"_M2\"])"
   ]
  },
  {
   "cell_type": "markdown",
   "metadata": {},
   "source": [
    "* The four major stata for downstream analysis"
   ]
  },
  {
   "cell_type": "code",
   "execution_count": null,
   "metadata": {
    "scrolled": true
   },
   "outputs": [],
   "source": [
    "def categorize_genes(ttype):\n",
    "    sub_df = MERGE_SIG.loc[MERGE_SIG.ttype == ttype]\n",
    "#     print(sub_df.head())\n",
    "    d = {}\n",
    "    d['M1_KCG'] = sub_df.gene[(sub_df.q_M1 < 0.1) & (sub_df.q_M2 > 0.1) & (sub_df.gene.isin(driver_genes))].tolist()\n",
    "    d['M2_KCG'] = sub_df.gene[(sub_df.q_M1 > 0.1) & (sub_df.q_M2 < 0.1) & (sub_df.gene.isin(driver_genes))].tolist()\n",
    "    d['M1_nKCG'] = sub_df.gene[(sub_df.q_M1 < 0.1) & (sub_df.q_M2 > 0.1) & ~(sub_df.gene.isin(driver_genes))].tolist()\n",
    "    d['M2_nKCG'] = sub_df.gene[(sub_df.q_M1 > 0.1) & (sub_df.q_M2 < 0.1) & ~(sub_df.gene.isin(driver_genes))].tolist()\n",
    "    return d\n",
    "\n",
    "cats = {}\n",
    "for cc in finished_cohort:\n",
    "    cats[cc] = categorize_genes(cc)\n",
    "# cats"
   ]
  },
  {
   "cell_type": "code",
   "execution_count": null,
   "metadata": {},
   "outputs": [],
   "source": [
    "def summarize_muts():\n",
    "    df = MERGE_SIG[(MERGE_SIG.q_M2 < 0.1) & (MERGE_SIG.q_M1 > 0.1)]\n",
    "    for eff in CODE_EFF:\n",
    "        df['d{}'.format(eff)] = df['n{}_M2'.format(eff)]-df['n{}_M1'.format(eff)]\n",
    "    return df.loc[:,['gene', 'ttype'] + ['d{}'.format(eff) for eff in CODE_EFF]]\n",
    "                   \n",
    "\n",
    "sig_diff = pd.melt(summarize_muts(), \n",
    "                   id_vars=[\"gene\", \"ttype\"], value_vars=[\"dncd\", \"dsil\", \"dmis\", \"dstp\", \"dspl\"])"
   ]
  },
  {
   "cell_type": "code",
   "execution_count": null,
   "metadata": {},
   "outputs": [],
   "source": [
    "sig_diff"
   ]
  },
  {
   "cell_type": "markdown",
   "metadata": {},
   "source": [
    "* The scale of different types of calls per gene for differential significant genes"
   ]
  },
  {
   "cell_type": "code",
   "execution_count": null,
   "metadata": {
    "scrolled": false
   },
   "outputs": [],
   "source": [
    "plt.figure(figsize = (8, 16))\n",
    "sns.catplot(data = sig_diff, x = \"ttype\", y = \"value\", hue = \"variable\",row = \"variable\",\n",
    "            alpha = 0.5, sharey = False, \n",
    "           height = 2, aspect=3)"
   ]
  },
  {
   "cell_type": "markdown",
   "metadata": {},
   "source": [
    "# 2. Seaborn grid plots comparing variants\n",
    "\n",
    "- variant counts stratified by patients\n",
    "- variant counts stratified by patients & variant type\n",
    "- log ratio of coding/noncoding mutations"
   ]
  },
  {
   "cell_type": "code",
   "execution_count": null,
   "metadata": {},
   "outputs": [],
   "source": [
    "# Utils\n",
    "## add a y=x reference line\n",
    "def add_y_equals_x( **kwargs):\n",
    "    ax = plt.gca()\n",
    "    lims = [\n",
    "        np.min([ax.get_xlim(), ax.get_ylim()]),  # min of both axes\n",
    "        np.max([ax.get_xlim(), ax.get_ylim()]),  # max of both axes\n",
    "    ]\n",
    "    ax.plot(lims, lims, 'k-', alpha=0.2, zorder=0)\n",
    "    ax.set_aspect('equal')\n",
    "    ax.set_xlim(lims)\n",
    "    ax.set_ylim(lims)"
   ]
  },
  {
   "cell_type": "code",
   "execution_count": null,
   "metadata": {},
   "outputs": [],
   "source": [
    "def single_n(var, cohorts = None):\n",
    "    df_p = BIG_MAF.groupby(['ttype', var,  'version'])['effect'].count().unstack('version').reset_index()    \n",
    "    \n",
    "    if var == \"symbol\":\n",
    "        df_p['mark'] = '1'\n",
    "        df_p['mark'][(df_p.ttype == \"DLBC\") & (df_p.symbol == \"PIM1\")] = 2\n",
    "        df_p['mark'][(df_p.ttype == \"THYM\") & (df_p.symbol == \"GTF2I\")] = 2\n",
    "        g = sns.FacetGrid(df_p, col=\"ttype\", col_wrap=4, sharex=False, sharey=False, hue = \"mark\", aspect=1)\n",
    "    else:\n",
    "        g = sns.FacetGrid(df_p, col=\"ttype\", col_wrap=4, sharex=False, sharey=False, aspect=1)\n",
    "        \n",
    "    if cohorts is None:\n",
    "        pass\n",
    "    else:\n",
    "        df_p = df_p.loc[df_pe.ttype.isin(cohorts),:]\n",
    "    \n",
    "    \n",
    "    \n",
    "    g.map(plt.scatter, \"M1\", \"M2\", alpha = 0.5)\n",
    "    g.map(add_y_equals_x)\n",
    "    plt.subplots_adjust(top=0.95)\n",
    "    g.set_titles(\"{col_name}\")\n",
    "    \n",
    "    if var == \"symbol\":\n",
    "        var = \"gene\"\n",
    "    g.fig.suptitle('Variant counts per {}'.format(var))\n",
    "    plt.xlabel(\"M1\")\n",
    "    plt.ylabel(\"M2\")\n",
    "    plt.savefig(\"scatter_by_{}\".format(var), dpi=150)\n",
    "    return df_p"
   ]
  },
  {
   "cell_type": "code",
   "execution_count": null,
   "metadata": {},
   "outputs": [],
   "source": [
    "df_g = single_n(\"symbol\")"
   ]
  },
  {
   "cell_type": "code",
   "execution_count": null,
   "metadata": {},
   "outputs": [],
   "source": [
    "import seaborn as sns\n",
    "df_p = single_n(\"patient\")"
   ]
  },
  {
   "cell_type": "code",
   "execution_count": null,
   "metadata": {},
   "outputs": [],
   "source": [
    "df_pe = BIG_MAF.groupby(['ttype', 'symbol', 'version'])['effect'].value_counts().unstack('version').reset_index().fillna(0)"
   ]
  },
  {
   "cell_type": "code",
   "execution_count": null,
   "metadata": {},
   "outputs": [],
   "source": [
    "# BIG_MAF['neighboring_indel'] = \"no\"\n",
    "# BIG_MAF['neighboring_indel'][BIG_MAF['dist_indel'] < 25] = \"yes\"\n",
    "def gene_type_n(cohorts = None):\n",
    "    df_pe = BIG_MAF.groupby(['ttype', 'symbol', 'version'])['effect'].value_counts().unstack('version').reset_index().fillna(0)\n",
    "    if cohorts is None:\n",
    "        pass\n",
    "    else:\n",
    "        df_pe = df_pe.loc[df_pe.ttype.isin(cohorts),:]\n",
    "    g = sns.FacetGrid(df_pe, col=\"ttype\", col_wrap=4, \n",
    "                      sharex=False, sharey=False, aspect=1, hue = \"effect\",\n",
    "                      hue_kws=dict(marker=[\"^\", \"v\", \"*\", \"o\", \"+\"]),\n",
    "                      hue_order =CODE_EFF)\n",
    "    g = (g.map(plt.scatter, \"M1\", \"M2\", alpha = 0.3)).set(yscale = 'log', xscale = 'log') \n",
    "    g.map(add_y_equals_x).add_legend()\n",
    "    g.set_titles(\"{col_name}\", fontsize=\"large\")\n",
    "#     plt.legend(fontsize='x-large', title_fontsize='40')\n",
    "    plt.setp(g._legend.get_texts(), fontsize='15') # for legend text\n",
    "    plt.setp(g._legend.get_title(), fontsize='15') # for legend title\n",
    "#     g.fig.suptitle('Variants counts per gene, each variant type', fontsize = \"large\")\n",
    "    plt.savefig(\"patient_gene\", dpi=150, bbox_inches='tight')\n",
    "    plt.subplots_adjust(top=0.95)"
   ]
  },
  {
   "cell_type": "code",
   "execution_count": null,
   "metadata": {
    "scrolled": false
   },
   "outputs": [],
   "source": [
    "gene_type_n()"
   ]
  },
  {
   "cell_type": "code",
   "execution_count": null,
   "metadata": {},
   "outputs": [],
   "source": [
    "def plot_ratio():\n",
    "    BIG_MAF[\"is_coding2\"] = BIG_MAF.effect != CODE_EFF[0] #denotes flanking\n",
    "\n",
    "    df_ratio = BIG_MAF.groupby(['ttype', 'patient', 'version', 'is_coding2']).agg('size').unstack('is_coding2').reset_index()\n",
    "    df_ratio.columns = ['ttype', 'patient', 'version', 'noncoding', 'coding']\n",
    "    df_ratio['ratio'] = np.log(df_ratio['coding']) - np.log(df_ratio['noncoding'])\n",
    "    df_ratio = df_ratio.pivot_table(index = ['ttype', 'patient'], columns = 'version', values = 'ratio').reset_index()\n",
    "    g = sns.FacetGrid(df_ratio, col=\"ttype\", col_wrap=4, \n",
    "                  sharex=False, sharey=False, aspect=1)\n",
    "    g.map(sns.distplot,\"M1\", hist = False, color = 'blue', label = 'M1')\n",
    "    g.map(sns.distplot,\"M2\", hist = False, color = 'red', label = \"M2\")\n",
    "    # g.map(add_y_equals_x)\n",
    "    g.set_titles(\"{col_name}\")\n",
    "    g.add_legend()\n",
    "    g.fig.suptitle('log(coding)-log(noncoding)')\n",
    "    plt.subplots_adjust(top = 0.9, hspace = 0.5)\n",
    "    return df_ratio\n",
    "    "
   ]
  },
  {
   "cell_type": "code",
   "execution_count": null,
   "metadata": {
    "scrolled": false
   },
   "outputs": [],
   "source": [
    "ncd_ratio = plot_ratio()"
   ]
  },
  {
   "cell_type": "markdown",
   "metadata": {},
   "source": [
    "# prioritize genes"
   ]
  },
  {
   "cell_type": "code",
   "execution_count": null,
   "metadata": {},
   "outputs": [],
   "source": [
    "MERGED_calls.head()"
   ]
  },
  {
   "cell_type": "code",
   "execution_count": null,
   "metadata": {},
   "outputs": [],
   "source": [
    "MERGED_calls.dtypes"
   ]
  },
  {
   "cell_type": "code",
   "execution_count": null,
   "metadata": {},
   "outputs": [],
   "source": [
    "df = MERGED_calls[~MERGED_calls.effect_M2.isnull()]"
   ]
  },
  {
   "cell_type": "code",
   "execution_count": null,
   "metadata": {},
   "outputs": [],
   "source": [
    "\n",
    "df['tumor_VAF'] = df['t_alt_count_M2'] / (df['t_alt_count_M2']+ df['t_ref_count_M2'])"
   ]
  },
  {
   "cell_type": "code",
   "execution_count": null,
   "metadata": {},
   "outputs": [],
   "source": [
    "sns.set(font_scale=1)\n",
    "sns.set_style(\"ticks\")\n",
    "MERGED_calls['tumor_VAF'] = MERGED_calls[\"t_alt_count_M2\"] / (MERGED_calls[\"t_alt_count_M2\"] + MERGED_calls[\"t_ref_count_M2\"])\n",
    "g = sns.FacetGrid(MERGED_calls[MERGED_calls.called_by.isin([\"both\", \"M2_only\"])], col=\"ttype\",  hue=\"called_by\", col_wrap=4, \n",
    "                  sharex = True, sharey = False)\n",
    "g.map(plt.scatter, \"tumor_VAF\", \"t_alt_count_M2\", alpha=0.2)\n",
    "g.set(yscale = 'log').set(ylim=(0, 20))#.add_legend()\n",
    "g.set_titles(\"{col_name}\")\n",
    "g.map(plt.axhline, y=2, xmin=0, xmax=1, color = \"red\")\n",
    "plt.subplots_adjust(top=0.95)\n",
    "sns.despine()\n",
    "g.fig.suptitle('VAF vs. tumor alt coverage')\n",
    "g.set_titles(\"{col_name}\")\n",
    "plt.savefig(\"tumor_AF_facet\", dpi=300)"
   ]
  },
  {
   "cell_type": "code",
   "execution_count": null,
   "metadata": {},
   "outputs": [],
   "source": [
    "MERGE_SIG['gene_type'] = \"none\"\n",
    "MERGE_SIG['gene_type'][(MERGE_SIG.q_M1 < 0.1) & (MERGE_SIG.q_M2 > 0.1)] = \"M1_only\"\n",
    "MERGE_SIG['gene_type'][(MERGE_SIG.q_M1 > 0.1) & (MERGE_SIG.q_M2 < 0.1)] = \"M2_only\"\n",
    "MERGE_SIG['gene_type'][(MERGE_SIG.q_M1 < 0.1) & (MERGE_SIG.q_M2 < 0.1)] = \"both\""
   ]
  },
  {
   "cell_type": "code",
   "execution_count": null,
   "metadata": {},
   "outputs": [],
   "source": [
    "sig = MERGE_SIG[MERGE_SIG.ttype == \"BRCA\"]\n",
    "sig = sig.loc[:,['gene', \"pCL_M1\", \"pCL_M2\", 'gene_type']].dropna()\n",
    "sig.max()"
   ]
  },
  {
   "cell_type": "code",
   "execution_count": null,
   "metadata": {},
   "outputs": [],
   "source": [
    "MERGE_SIG.head()"
   ]
  },
  {
   "cell_type": "markdown",
   "metadata": {},
   "source": [
    "## MutSig plots"
   ]
  },
  {
   "cell_type": "code",
   "execution_count": null,
   "metadata": {},
   "outputs": [],
   "source": [
    "BIG_SIGGENE"
   ]
  },
  {
   "cell_type": "code",
   "execution_count": null,
   "metadata": {},
   "outputs": [],
   "source": [
    "# MutSig\n",
    "pvals = BIG_SIGGENE.pivot_table(index = ['ttype', 'gene'], columns='version', values='q').reset_index()\n",
    "pvals['gene_type'] = \"consistent\"\n",
    "pvals['gene_type'][(pvals.M1 <= 0.1) & (pvals.M2 >= 0.1)] = \"M1-only\"\n",
    "pvals['gene_type'][(pvals.M1 >= 0.1) & (pvals.M2 <= 0.1)] = \"M2-only\"\n",
    "pvals.head()"
   ]
  },
  {
   "cell_type": "code",
   "execution_count": null,
   "metadata": {},
   "outputs": [],
   "source": [
    "pvals_long = pd.melt(pvals[(pvals.M1 != 1) | (pvals.M2 != 1)], id_vars=['ttype', 'gene', 'gene_type'], value_vars=['M1', 'M2'])\n",
    "list_ordering = [\"M1-only\", 'M2-only', \"consistent\"]\n",
    "pvals_long[\"gene_type\"] = pd.Categorical(pvals_long[\"gene_type\"], categories=list_ordering) \n",
    "pvals_long = pvals_long.sort_values(\"gene_type\").reset_index()"
   ]
  },
  {
   "cell_type": "code",
   "execution_count": null,
   "metadata": {
    "scrolled": false
   },
   "outputs": [],
   "source": [
    "from scipy import stats\n",
    "\n",
    "\n",
    "def scatter(x, y, g,  **kwargs):\n",
    "    sns.lineplot(x, y, alpha = 0.5, units = g, markers = True, estimator=None, lw=1, legend = \"brief\", \n",
    "                 palette=sns.color_palette(\"coolwarm\", 3),\n",
    "                 **kwargs).set(yscale='log', ylabel=\"q value\")\n",
    "g = sns.FacetGrid(pvals_long , col=\"ttype\",  hue = \"gene_type\", col_wrap=6, aspect=0.5,\n",
    "                  col_order=[\"CHOL\", \"PCPG\", \"UCS\", \"KICH\", 'UVM', 'KICH', 'ACC', 'SARC', 'MESO', 'THYM', 'ESCA', \n",
    "                             'BLCA', 'BRCA', 'CESC', 'UCEC', 'DLBC', 'SKCM', 'LIHC'],\n",
    "                 palette=sns.xkcd_palette([\"blue\", \"grey\", \"red\"]), hue_order = ['M2-only', \"consistent\", \"M1-only\"])\n",
    "g.map(scatter, \"version\", \"value\", \"gene\")\n",
    "g.fig.suptitle('MutSig Q value from two call sets')\n",
    "g.add_legend()\n",
    "g.set_titles(\"{col_name}\").set(xlabel=None, ylabel=\"Q value\")\n",
    "plt.subplots_adjust(top = 0.9, hspace = 0.5)\n",
    "sns.despine(top = True, right = False)\n",
    "plt.savefig(\"qval_combined\", dpi=300)"
   ]
  },
  {
   "cell_type": "code",
   "execution_count": null,
   "metadata": {},
   "outputs": [],
   "source": [
    "pvals"
   ]
  },
  {
   "cell_type": "code",
   "execution_count": null,
   "metadata": {},
   "outputs": [],
   "source": [
    "def plot_coverage(cohort, cap = 20, log = False):\n",
    "    raw_maf = pd.read_csv(\"{}/{}_full.maf\".format(M2_RAWMAF_DIR, cohort), sep = '\\t')\n",
    "    select_maf = M2_FINAL_SET.loc[M2_FINAL_SET.ttype == cohort, :].merge(raw_maf, how = \"left\" )\n",
    "    \n",
    "    \n",
    "    \n",
    "    raw_maf['patient'] = raw_maf['patient'].str[-20:]\n",
    "    fig, axes = plt.subplots(nrows = 1, ncols = 2, figsize = (12, 6), sharey = True)\n",
    "    fig.suptitle(\"{}: coverage\".format(cohort))\n",
    "    def plot_two(cohort, v):\n",
    "        final_maf = get_maf(cohort = cohort, mutect_version=v)\n",
    "        final_maf['patient'] = final_maf['patient'].str[-20:]\n",
    "        df = final_maf.merge(raw_maf, how = 'left', on = ['chr', 'pos', 'patient']).dropna().loc[:,['patient', 'chr', 'pos', 'symbol', 'is_coding', 't_alt_count', 't_ref_count']]\n",
    "        df['coverage'] = df['t_alt_count'] + df['t_ref_count']\n",
    "        df['ratio'] = df['t_alt_count'] / df['coverage']\n",
    "        \n",
    "        axes[v-1].scatter(df.loc[df.is_coding == 1, ]['ratio'], \n",
    "                          df.loc[df.is_coding == 1, ]['t_alt_count'], \n",
    "                          alpha = 0.1,\n",
    "                          label = 'M{} coding'.format(v))\n",
    "        axes[v-1].scatter(df.loc[df.is_coding == 0, ]['ratio'], \n",
    "                          df.loc[df.is_coding == 0, ]['t_alt_count'], \n",
    "                          alpha = 0.1,\n",
    "                          label = 'M{} non-coding'.format(v))\n",
    "        axes[v-1].legend(loc = 'lower right')\n",
    "        axes[v-1].set_yscale('log')\n",
    "        axes[v-1].set_title(\"M{}\".format(v))\n",
    "        axes[v-1].set(ylim = [0.5, cap], xlabel = \"alt/total ratio\", ylabel = \"coverage\")\n",
    "        axes[v-1].set_yticks(np.array([1, 2, 5, 10, 15, 20]))\n",
    "        axes[v-1].set_yticklabels(np.array([1, 2, 5, 10, 15, 20]))\n",
    "        \n",
    "        return None\n",
    "    \n",
    "    plot_two(cohort, 1)\n",
    "    plot_two(cohort, 2)\n",
    "    if log:\n",
    "        cap = str(cap) + '-log'\n",
    "    plt.savefig('/demo-mount/m2_results/combined_res/plots/coverage/{}-{}.png'.format(cohort, cap), dpi = 80)\n",
    "\n",
    "plot_coverage(\"BRCA\", log = True)"
   ]
  },
  {
   "cell_type": "code",
   "execution_count": null,
   "metadata": {
    "scrolled": false
   },
   "outputs": [],
   "source": []
  },
  {
   "cell_type": "code",
   "execution_count": null,
   "metadata": {
    "scrolled": false
   },
   "outputs": [],
   "source": [
    "# from seaborn_qqplot import qqplot\n",
    "import matplotlib.patches as mpatches\n",
    "\n",
    "from scipy.stats import uniform\n",
    "import scipy.stats as stats\n",
    "runif = np.random.uniform(20000)\n",
    "colors = {'M1':'red', 'M2':'blue', \n",
    "          'both':'orange', 'none':'grey'}\n",
    "big_size = 25\n",
    "small_size = 2\n",
    "sizes = {'M1':big_size, 'M2':big_size, \n",
    "          'both':big_size, 'none':small_size}\n",
    "def qqplot(x, y, c, s, **kwargs):\n",
    "#     x = np.random.uniform(0, 1, len(y))\n",
    "    _, xr = stats.probplot(x, dist=stats.uniform, fit=False)\n",
    "    _, yr = stats.probplot(y, dist=stats.uniform, fit=False)\n",
    "    plt.scatter(-np.log(xr), -np.log(yr), c=c, s = s, alpha = 0.7)\n",
    "    \n",
    "    \n",
    "\n",
    "\n",
    "# ax.scatter(df['carat'], df['price'], c=df['color'].apply(lambda x: colors[x]))\n",
    "def compare_pvalues(cohort):\n",
    "    \n",
    "    # sig genes set\n",
    "    BIG_SIGGENE['q'] = BIG_SIGGENE.q.fillna(1)\n",
    "    M1_sig_genes = BIG_SIGGENE.gene[(BIG_SIGGENE.q < 0.1) & (BIG_SIGGENE.version == \"M1\") & (BIG_SIGGENE.ttype == cohort)].tolist()\n",
    "    M2_sig_genes = BIG_SIGGENE.gene[(BIG_SIGGENE.q < 0.1) & (BIG_SIGGENE.version == \"M2\") & (BIG_SIGGENE.ttype == cohort)].tolist()\n",
    "\n",
    "    df = pd.melt(BIG_SIGGENE.loc[(BIG_SIGGENE.ttype == cohort)], \n",
    "                                 value_vars=['pCV', 'pCL', 'pFN'], \n",
    "                                 id_vars=['gene', 'version']).fillna(1)\n",
    "    df['caller']  = df['version']\n",
    "    df['sig'] = 'none'\n",
    "    df['sig'][df['gene'].isin(list(set(M1_sig_genes) - set(M2_sig_genes)))] = 'M1'\n",
    "    df['sig'][df['gene'].isin(list(set(M2_sig_genes) - set(M1_sig_genes)))] = 'M2'\n",
    "    df['sig'][df['gene'].isin(list(set(M1_sig_genes) & set(M2_sig_genes)))] = 'both'\n",
    "    df['cc'] = [colors[x] for x in df['sig'].tolist()]\n",
    "    df['size'] = [sizes[x] for x in df['sig'].tolist()]\n",
    "#     df['alpha'] = [alphas[x] for x in df['sig'].tolist()]\n",
    "    df['unif'] = np.random.uniform(0, 1, df.shape[0])\n",
    "    g = sns.FacetGrid(df, col=\"variable\", col_order=['pFN','pCL', 'pCV'],\n",
    "                      row = 'caller', row_order = ['M1', 'M2'],\n",
    "#                       hue = 'sig', #hue_kws={\"marker\": [\"s\", \"D\"]},\n",
    "#                       hue = 'sig', hue_order = ['none', 'both', 'M1-only', 'M2-only'],\n",
    "                      height=4, sharey=False, sharex=False)\n",
    "    g.map(qqplot,'unif', \"value\", \"cc\", \"size\")\n",
    "\n",
    "#   g.add_legend()\n",
    "    g.map(add_y_equals_x)\n",
    "    g.fig.text(0.5, 0.05, \"-log10(Expected p-value)\", ha=\"center\", fontsize=12)\n",
    "    g.fig.text(0.07, 0.35, \"-log10(Observed p-value)\", rotation=90, ha=\"center\", fontsize=12)\n",
    "    plt.subplots_adjust(left=0.1, right=0.9, top=0.9, bottom=0.1)\n",
    "    g.fig.suptitle(cohort)\n",
    "    patch_list = [mpatches.Patch(color=colors[sig_type], label=sig_type) for sig_type in colors.keys()]\n",
    "    g.add_legend(handles=patch_list, title = \"Significant by:\", loc=7)\n",
    "    plt.savefig(\"/home/qingzhang/files/combined_pvals-{}.png\".format(cohort), dpi=150)\n",
    "    return(df)\n",
    "\n"
   ]
  },
  {
   "cell_type": "code",
   "execution_count": null,
   "metadata": {},
   "outputs": [],
   "source": [
    "compare_pvalues(\"SKCM\")"
   ]
  },
  {
   "cell_type": "code",
   "execution_count": null,
   "metadata": {
    "scrolled": true
   },
   "outputs": [],
   "source": [
    "for cc in finished_cohort:\n",
    "    compare_pvalues(cc)"
   ]
  },
  {
   "cell_type": "code",
   "execution_count": null,
   "metadata": {},
   "outputs": [],
   "source": [
    "\n",
    "categories = [\"M1_KCG\", \"M1_nKCG\", \"M2_KCG\", \"M2_nKCG\"]\n",
    "def gene_category(df, cats):\n",
    "    df['cate_ids'] = \"others\"\n",
    "    for tumor in cats.keys():\n",
    "        for cate in categories:\n",
    "            df.cate_ids.loc[(df.ttype == tumor) & (df.symbol.isin(cats[tumor][cate]))] = cate\n",
    "#     df = df[df.cate_ids != \"\"]\n",
    "    return df"
   ]
  },
  {
   "cell_type": "code",
   "execution_count": null,
   "metadata": {},
   "outputs": [],
   "source": [
    "cats"
   ]
  },
  {
   "cell_type": "code",
   "execution_count": null,
   "metadata": {},
   "outputs": [],
   "source": [
    "def get_diff_calls_IGV():\n",
    "    df = BIG_MAF.pivot_table(index = ['patient', 'symbol', 'chr', 'pos', 'ttype', 'context65'], columns=['version'], values=['effect'], \n",
    "                   aggfunc=lambda x: ' '.join(x), fill_value=np.nan).reset_index()\n",
    "    df = df[(df['effect', \"M1\"]  != df['effect', \"M2\"])]\n",
    "    df.columns = ['patient', 'symbol', 'chr', 'pos', 'ttype', 'context65', 'effect_m1', 'effect_m2']\n",
    "    df = df.merge(pvals.rename(columns = {'gene':'symbol', 'M1':'q_m1', 'M2':'q_m2'}), \n",
    "             how = 'left', on = ['ttype', 'symbol'])\n",
    "    df['patient_sub'] = df.patient.str[:7]\n",
    "\n",
    "    df = df.merge(mpairs_df.rename(columns = {'cohort': 'ttype', 'patient': 'patient_sub'} ), \n",
    "                how = 'left', on = ['ttype', 'patient_sub'] )\n",
    "    DIFF_CALLS = df.loc[ ((df.q_m1 < 0.1) & (df.q_m2 > 0.1))| ((df.q_m2 < 0.1) & (df.q_m1 > 0.1)), \n",
    "                        [\"ttype\", \"chr\", \"pos\", 'symbol','context65', 'effect_m1', 'effect_m2', \"q_m1\", \"q_m2\", \"tumor\", \"normal\", \"patient\"]]\n",
    "    ALL_DIFF = pd.DataFrame()\n",
    "    # ((df.q_m1 < 0.1) & (df.q_m2 > 0.1))| ((df.q_m2 < 0.1) & (df.q_m1 > 0.1))\n",
    "    def append_filters(cohort):\n",
    "        df_diff = DIFF_CALLS.loc[DIFF_CALLS.ttype == cohort]\n",
    "        filter_reasons = pd.read_csv(\"/demo-mount/m2_results/combined_res/filters/{}.tsv\".format(cohort), sep = '\\t').loc[:, ['chr', 'pos', 'patient', 'filters']]\n",
    "        filter_reasons.patient = filter_reasons.patient.str[-23:]\n",
    "        filter_reasons.chr = filter_reasons.chr.astype('int64')\n",
    "    #     print(filter_reasons)\n",
    "        filter_reasons.columns = [\"chr\", \"pos\", \"patient\", \"filters\"]\n",
    "    #     print(filter_reasons)\n",
    "    #     print(df_diff)\n",
    "        df_diff = df_diff.merge(filter_reasons, how = 'left', on = ['chr', 'pos', 'patient'])\n",
    "        df_diff.to_csv(\"/demo-mount/m2_results/combined_res/prep_IGV/{}.tsv\".format(cohort), sep = '\\t')\n",
    "        return df_diff\n",
    "\n",
    "    for cc in finished_cohort:\n",
    "        ALL_DIFF = pd.concat([append_filters(cc), ALL_DIFF], axis=0)\n",
    "    ALL_DIFF = ALL_DIFF.loc[:,['chr', 'pos', 'symbol','filters',  'tumor', 'patient', 'effect_m1', 'effect_m2', 'q_m1', \n",
    "                               'q_m2', 'ttype', 'normal', 'context65', 't_alt_count', 't_ref_count']].sort_values([\"ttype\", \"tumor\"])\n",
    "    df_temp = gene_category(ALL_DIFF[~ALL_DIFF.tumor.isnull()], cats)\n",
    "    df_temp['gene'] = df_temp['symbol']\n",
    "    df_temp = df_temp.merge(MERGE_SIG.loc[:,['gene', 'pCL_M1', 'pCL_M2', 'ttype']], how = \"left\", on = ['gene', 'ttype'])\n",
    "    df_temp[\"pCL_diff\"] = -np.log10(df_temp[\"pCL_M2\"]) + np.log10(df_temp[\"pCL_M1\"])\n",
    "    return df_temp\n",
    "IGVC = get_diff_calls_IGV()"
   ]
  },
  {
   "cell_type": "code",
   "execution_count": null,
   "metadata": {},
   "outputs": [],
   "source": [
    "def plot_category(cate, cut=20, recurrent = True):\n",
    "    df = pd.DataFrame(0,columns = finished_cohort, index = BIG_SIGGENE.gene.unique())\n",
    "    version = cate.split(\"_\")[0]\n",
    "    for cc in finished_cohort:\n",
    "#         print(cats[cc][cate])\n",
    "        for gene in cats[cc][cate]:\n",
    "            if recurrent:\n",
    "                if version == \"M1\":\n",
    "                    df.loc[df.index == gene, cc] =  IGVC.loc[(IGVC.cate_ids == cate) & (~IGVC.effect_m1.isnull()) & \n",
    "                                                         (IGVC.symbol == gene) & \n",
    "                                                         (IGVC.ttype == cc) ].groupby(['chr', 'pos']).size().reset_index().rename({0:\"counts\"}, axis=1).counts.agg(\"max\")\n",
    "                elif version == \"M2\":\n",
    "                    df.loc[df.index == gene, cc] =  IGVC.loc[(IGVC.cate_ids == cate) & (~IGVC.effect_m2.isnull()) & \n",
    "                                                         (IGVC.symbol == gene) & \n",
    "                                                         (IGVC.ttype == cc) ].groupby(['chr', 'pos']).size().reset_index().rename({0:\"counts\"}, axis=1).counts.agg(\"max\")\n",
    "            else:\n",
    "#                 print(df_temp.loc[(df_temp.cate_ids == cate) & (df_temp.symbol == gene) & (df_temp.ttype == cc) , :].pCL_diff.unique())\n",
    "                try:\n",
    "                    df.loc[df.index == gene, cc] = df_temp.loc[(df_temp.cate_ids == cate) & (df_temp.symbol == gene) & (df_temp.ttype == cc) , :].pCL_diff.unique()\n",
    "                except:\n",
    "                    df.loc[df.index == gene, cc] = 0\n",
    "#     return df\n",
    "    df = df[df.sum(axis=1) != 0]\n",
    "    df =  df.iloc[df.sum(axis=1).values.argsort()[::-1], df.sum(axis=0).values.argsort()[::-1]]\n",
    "#     df = df.reset_index()\n",
    "    \n",
    "    print(df.shape[0])\n",
    "    if df.shape[0] > cut:\n",
    "        dfnew = df.iloc[1:cut, :]\n",
    "    else:\n",
    "        dfnew = df\n",
    "    fig, ax = plt.subplots(figsize = (10, len(dfnew.index) * 0.4))\n",
    "#     return df\n",
    "#     print(df)\n",
    "    ax = sns.heatmap(dfnew, cmap = \"Blues\", linewidth=2)\n",
    "#     dfnew = dfnew.astype('float')\n",
    "#     ax.set_yticklabels(ax.get_yticklabels(), rotation=45)\n",
    "    ax.set_xticklabels(ax.get_xticklabels(), rotation=45)\n",
    "    b, t = plt.ylim() # discover the values for bottom and top\n",
    "    b += 0.5 # Add 0.5 to the bottom\n",
    "    t -= 0.5 # Subtract 0.5 from the top\n",
    "    plt.ylim(b, t) # update the ylim(bottom, top) values\n",
    "    ax.set_title(cate )\n",
    "    if recurrent:\n",
    "        plt.savefig(\"{}_{}\".format(cate,cut), dpi=300, bbox_inches='tight')\n",
    "    return df"
   ]
  },
  {
   "cell_type": "code",
   "execution_count": null,
   "metadata": {
    "scrolled": true
   },
   "outputs": [],
   "source": [
    "def plot_bar(gene_type, min_count=0):\n",
    "    \n",
    "    df = plot_category(gene_type, 20, True)\n",
    "    df = df.loc[df.index[df.sum(axis=1) > min_count].tolist(),df.columns[df.sum() > 1].tolist()]\n",
    "    if df.shape[0]> 20:\n",
    "        df = df.iloc[:20, :]\n",
    "#     fig = plt.figure(figsize = (0.3*df.shape[0],6))\n",
    "    ax = df.plot(kind='bar', stacked=True, figsize =(10,6) )\n",
    "    ax.legend(loc='center left', bbox_to_anchor=(1, 0.5))\n",
    "    sns.despine()\n",
    "    ax.set_title(gene_type)\n",
    "    ax.set_xticklabels(ax.get_xticklabels(), rotation =45, ha = \"right\")\n",
    "    plt.savefig(gene_type + \"_new\", dpi=150, bbox_inches='tight')\n",
    "    return ax\n",
    "plot_bar(\"M2_KCG\", 1)\n",
    "plot_bar(\"M1_KCG\")\n",
    "plot_bar(\"M2_nKCG\", 1)\n",
    "plot_bar(\"M1_nKCG\")"
   ]
  },
  {
   "cell_type": "code",
   "execution_count": null,
   "metadata": {},
   "outputs": [],
   "source": [
    "IGVC = pd.read_pickle(\"/home/qingzhang/files/IGVC.pkl\")"
   ]
  },
  {
   "cell_type": "code",
   "execution_count": null,
   "metadata": {},
   "outputs": [],
   "source": [
    "\n",
    "# ax.scatter(df['carat'], df['price'], c=df['color'].apply(lambda x: colors[x]))\n",
    "def label_pvalues(cohort, df, label):\n",
    "    colors = {label:'red', 'others':'grey', 'both':'orange'}\n",
    "    big_size = 50\n",
    "    small_size = 2\n",
    "    sizes = {label:big_size,  'others':small_size, 'both':10}\n",
    "    # sig genes set\n",
    "    BIG_SIGGENE['q'] = BIG_SIGGENE.q.fillna(1)\n",
    "    \n",
    "    # labels\n",
    "    interested = df.index[df[cohort] > 0].tolist()\n",
    "    M1_sig_genes = BIG_SIGGENE.gene[(BIG_SIGGENE.q < 0.1) & (BIG_SIGGENE.version == \"M1\") & (BIG_SIGGENE.ttype == cohort)].tolist()\n",
    "    M2_sig_genes = BIG_SIGGENE.gene[(BIG_SIGGENE.q < 0.1) & (BIG_SIGGENE.version == \"M2\") & (BIG_SIGGENE.ttype == cohort)].tolist()\n",
    "\n",
    "    df = pd.melt(BIG_SIGGENE.loc[(BIG_SIGGENE.ttype == cohort), [\"pCL\", \"gene\", \"version\"]], \n",
    "                                 value_vars=['pCL'], \n",
    "                                 id_vars=['gene', 'version']).fillna(1)\n",
    "    df['caller']  = df['version']\n",
    "    df['sig'] = 'others'\n",
    "    df['sig'][df['gene'].isin(interested)] = label\n",
    "#     df['sig'][df['gene'].isin(list(set(M2_sig_genes) - set(M1_sig_genes)))] = 'M2'\n",
    "    df['sig'][df['gene'].isin(list(set(M1_sig_genes) & set(M2_sig_genes)))] = 'both'\n",
    "    df['cc'] = [colors[x] for x in df['sig'].tolist()]\n",
    "    df['size'] = [sizes[x] for x in df['sig'].tolist()]\n",
    "#     df['alpha'] = [alphas[x] for x in df['sig'].tolist()]\n",
    "    df['unif'] = np.random.uniform(0, 1, df.shape[0])\n",
    "    g = sns.FacetGrid(df, #col=\"variable\", #col_order=['pFN','pCL', 'pCV'],\n",
    "                      col = 'caller', col_order = ['M1', 'M2'],\n",
    "#                       hue = 'sig', #hue_kws={\"marker\": [\"s\", \"D\"]},\n",
    "#                       hue = 'sig', hue_order = ['none', 'both', 'M1-only', 'M2-only'],\n",
    "                      height=4, sharey=False, sharex=False)\n",
    "    g.map(qqplot,'unif', \"value\", \"cc\", \"size\")\n",
    "\n",
    "#   g.add_legend()\n",
    "    g.map(add_y_equals_x)\n",
    "    plt.subplots_adjust(top=0.9)\n",
    "    g.fig.suptitle(cohort + \"  pCL\")\n",
    "    patch_list = [mpatches.Patch(color=colors[sig_type], label=sig_type) for sig_type in colors.keys()]\n",
    "    g.add_legend(handles=patch_list, title = \"colored by:\", loc=7)\n",
    "    g.fig.text(0.5, 0.1, \"-log10(Expected p-value)\", ha=\"center\", fontsize=12)\n",
    "    g.fig.text(0.1, 0.3, \"-log10(Observed p-value)\", rotation=90, ha=\"center\", fontsize=12)\n",
    "    plt.subplots_adjust(left=0.1, right=0.9, top=0.9, bottom=0.2)\n",
    "    plt.savefig(\"/home/qingzhang/files/combined_pvals-{}_pCL.png\".format(cohort), dpi=150)\n",
    "    return(df)\n"
   ]
  },
  {
   "cell_type": "code",
   "execution_count": null,
   "metadata": {},
   "outputs": [],
   "source": [
    "label_pvalues(\"SKCM\", df_m2_nKCG, \"M2_nKCG\")"
   ]
  },
  {
   "cell_type": "code",
   "execution_count": null,
   "metadata": {},
   "outputs": [],
   "source": []
  }
 ],
 "metadata": {
  "kernelspec": {
   "display_name": "Python 3",
   "language": "python",
   "name": "python3"
  },
  "language_info": {
   "codemirror_mode": {
    "name": "ipython",
    "version": 3
   },
   "file_extension": ".py",
   "mimetype": "text/x-python",
   "name": "python",
   "nbconvert_exporter": "python",
   "pygments_lexer": "ipython3",
   "version": "3.7.5"
  }
 },
 "nbformat": 4,
 "nbformat_minor": 2
}
